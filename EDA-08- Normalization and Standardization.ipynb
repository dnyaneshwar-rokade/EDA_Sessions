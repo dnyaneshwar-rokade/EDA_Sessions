{
 "cells": [
  {
   "cell_type": "markdown",
   "metadata": {},
   "source": [
    "- In every dataset we have different columns has different units\n",
    "\n",
    "- In every dataset we have different columns has values varies from -infinity to infinity\n",
    "\n",
    "- It is very important standardize the data, make sure all the column values under same range\n",
    "\n",
    "- To achieve this we have two methods\n",
    "\n",
    "     - Normalization\n",
    "    \n",
    "     - standardization\n",
    "    "
   ]
  },
  {
   "cell_type": "markdown",
   "metadata": {},
   "source": [
    "**Normalization**:\n",
    "    \n",
    "   - min max scalar\n",
    "    \n",
    "    \n",
    "<img src=\"data:image/png;base64,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\" data-deferred=\"1\" class=\"rg_i Q4LuWd\" jsname=\"Q4LuWd\" width=\"397\" height=\"128\" alt=\"Data normalization formula. | Download Scientific Diagram\" data-iml=\"1399.800000011921\" data-atf=\"true\">"
   ]
  },
  {
   "cell_type": "markdown",
   "metadata": {},
   "source": [
    "**Standardization**\n",
    "\n",
    "  - Z-score\n",
    "    \n",
    "<img src=\"data:image/png;base64,iVBORw0KGgoAAAANSUhEUgAAAcwAAABtCAMAAAAbMqFLAAAAeFBMVEX///8AAAA2NjbY2Njz8/P6+vqMjIwlJSWbm5vQ0NCUlJRPT0+GhoaXl5c7Ozupqans7OzDw8PJycmlpaVYWFiAgICvr69JSUldXV1ra2tOTk7e3t7c3NwNDQ29vb0dHR14eHgvLy9CQkIpKSkfHx9cXFwWFhZoaGj+Q44EAAAEmUlEQVR4nO3d65aaPBgFYF4FxEMVRXQ8IVqr93+HzRtGxCrRr8lHiN3Pj65hzUyaxR7IgQQ9DwAAAAAAABoQLJbLZfd6tP1ajhd6Bc6iJCrLWyRJFOuVB2+Ld8Q2xdGAv070ShxViziIg67qp8GceE/HozjhX/IokcH29YoMRRGT68EYYTbGX1JUXD58L8yIOnOiQK9MhGlJd5+KfxfijM/EVUo09r1k8vK31BCmLQFfhiJFGnnekbPUhzDtEp2glZdq32ALCNMukeNhUXZp/xSv18Ma6+Pj7yBMu0SQux3VjS83pPDY9UWYdsm40rrvbhGmSwJxyse13/X7Co9dJoRpmRhd9oz0fjyEaVt8EufcxLCEIUy7eEKPMkOFcZhlXwphNm1F8wPRwFBpYTEFUUCYDUvo5ItGc2mouLDaM0aYzZrxxGxKhuZ/7sP0TwizSV15U+S59ikf6j9J5jA731/L56MIsxHDyOsXI0yeNgg9vuVqPs0swvwOcCHnFaa6JcIbxA12vqMdX4z+QQ5OMtprX5oyzPHG84IB5WHxRxKbGvdAnerCAj7r5458rqkpLOb5Op0erfjvheiyol/axYLasDK89HsyAv0sOcyvIk9eCbSWX+22+uWCUjicp+Vd1Q+Hw9BEh1aEmcT5fL4Irv/JBa2mq8KiKwWfIORlC/AZRJhD23VouXT0QHOx8v9FhHnGSESl/+Qhf267Us/x0AQ7ElQmMr5xJ/ohRD/4oNfSP/+7R2DwxEqcoXW5Ei5v85RnSNrbVT7cudqrkFOekcXaKI3EHQRzBAqxuKuW7ZBcS9fe+bHtFHMESln1zrXkaVRTy6+gcSn9LNMbPV+uCq6Ib8+QMkIH41PIBvPLdi3ACH6IfLJdCTAiVY8wA5UGqwlvyF6MMFe1G3xUm0nAhvhVg5krwlw3Vk14x/HVlOzo3KtzQq+pVV6PMAO/HtrMNnnVYP5Xm25zanbY/7N8znJusMClooE1zdjuzw8hz73Jc9JkmD8RZlVl1b8hl0OnMWuEWWG6wQR75Ajz9TPMbFAPSznagncSvLHoRzUDdGygmvAG2WCWI8x4VTcBoJoBQpjtIPdS3d45kNOh5gezqB5us60gG8xh9XCk+Glos4AbzP2twfyFdanuklOyt42TEWHFuLNm9yNMzpIsVgc0xGdOL/zeLBTKOTiTM7TQoPmTUQZmgtwUyK1C9wZt3WYCAAAAAAAAAADuC/xpwlPExZq7Ht5e4K5uOL6fJMajOFdtHpeL2a4S/KVMftT4KY1CoklcsF0n+DvFO8B5vUrQo53t2oAOuaL+e4XnCivKnBZXn4kP0Fo6jV+hn18PeFUSBiXO6lL15X0zwmJPh63u4psR3ivlMJHe+TYO4Vek4p36ruJL8XI7zHGbdRhfipUPvl0iTIdxmLflnfGO2vtScXhlTcVn+RV4/mBvsTagJRVh3t7kw5vS8MJbZy2qV2Yfz76cNhXxlVcmd38mNmsDeioTsyl2oTkuu16aQY4sncfX42Uyuci9orYrA5qmh2KhyHmEvs8H2EyFLd6BBwAAAAAAAAAAAADv+w2CezGSprrXvAAAAABJRU5ErkJggg==\" data-deferred=\"1\" class=\"rg_i Q4LuWd\" jsname=\"Q4LuWd\" width=\"460\" height=\"110\" alt=\"How to Normalize Data Excel – Normalization in Excel - Earn &amp; Excel\" data-iml=\"1400.3999999761581\" data-atf=\"true\">\n",
    "    \n",
    "    "
   ]
  },
  {
   "cell_type": "code",
   "execution_count": 1,
   "metadata": {},
   "outputs": [],
   "source": [
    "import pandas as pd\n",
    "import numpy as np\n",
    "import seaborn as sns\n",
    "import matplotlib.pyplot as plt"
   ]
  },
  {
   "cell_type": "code",
   "execution_count": 2,
   "metadata": {},
   "outputs": [
    {
     "data": {
      "text/html": [
       "<div>\n",
       "<style scoped>\n",
       "    .dataframe tbody tr th:only-of-type {\n",
       "        vertical-align: middle;\n",
       "    }\n",
       "\n",
       "    .dataframe tbody tr th {\n",
       "        vertical-align: top;\n",
       "    }\n",
       "\n",
       "    .dataframe thead th {\n",
       "        text-align: right;\n",
       "    }\n",
       "</style>\n",
       "<table border=\"1\" class=\"dataframe\">\n",
       "  <thead>\n",
       "    <tr style=\"text-align: right;\">\n",
       "      <th></th>\n",
       "      <th>case_id</th>\n",
       "      <th>continent</th>\n",
       "      <th>education_of_employee</th>\n",
       "      <th>has_job_experience</th>\n",
       "      <th>requires_job_training</th>\n",
       "      <th>no_of_employees</th>\n",
       "      <th>yr_of_estab</th>\n",
       "      <th>region_of_employment</th>\n",
       "      <th>prevailing_wage</th>\n",
       "      <th>unit_of_wage</th>\n",
       "      <th>full_time_position</th>\n",
       "      <th>case_status</th>\n",
       "    </tr>\n",
       "  </thead>\n",
       "  <tbody>\n",
       "    <tr>\n",
       "      <th>0</th>\n",
       "      <td>EZYV01</td>\n",
       "      <td>Asia</td>\n",
       "      <td>High School</td>\n",
       "      <td>N</td>\n",
       "      <td>N</td>\n",
       "      <td>14513</td>\n",
       "      <td>2007</td>\n",
       "      <td>West</td>\n",
       "      <td>592.2029</td>\n",
       "      <td>Hour</td>\n",
       "      <td>Y</td>\n",
       "      <td>Denied</td>\n",
       "    </tr>\n",
       "    <tr>\n",
       "      <th>1</th>\n",
       "      <td>EZYV02</td>\n",
       "      <td>Asia</td>\n",
       "      <td>Master's</td>\n",
       "      <td>Y</td>\n",
       "      <td>N</td>\n",
       "      <td>2412</td>\n",
       "      <td>2002</td>\n",
       "      <td>Northeast</td>\n",
       "      <td>83425.6500</td>\n",
       "      <td>Year</td>\n",
       "      <td>Y</td>\n",
       "      <td>Certified</td>\n",
       "    </tr>\n",
       "    <tr>\n",
       "      <th>2</th>\n",
       "      <td>EZYV03</td>\n",
       "      <td>Asia</td>\n",
       "      <td>Bachelor's</td>\n",
       "      <td>N</td>\n",
       "      <td>Y</td>\n",
       "      <td>44444</td>\n",
       "      <td>2008</td>\n",
       "      <td>West</td>\n",
       "      <td>122996.8600</td>\n",
       "      <td>Year</td>\n",
       "      <td>Y</td>\n",
       "      <td>Denied</td>\n",
       "    </tr>\n",
       "    <tr>\n",
       "      <th>3</th>\n",
       "      <td>EZYV04</td>\n",
       "      <td>Asia</td>\n",
       "      <td>Bachelor's</td>\n",
       "      <td>N</td>\n",
       "      <td>N</td>\n",
       "      <td>98</td>\n",
       "      <td>1897</td>\n",
       "      <td>West</td>\n",
       "      <td>83434.0300</td>\n",
       "      <td>Year</td>\n",
       "      <td>Y</td>\n",
       "      <td>Denied</td>\n",
       "    </tr>\n",
       "    <tr>\n",
       "      <th>4</th>\n",
       "      <td>EZYV05</td>\n",
       "      <td>Africa</td>\n",
       "      <td>Master's</td>\n",
       "      <td>Y</td>\n",
       "      <td>N</td>\n",
       "      <td>1082</td>\n",
       "      <td>2005</td>\n",
       "      <td>South</td>\n",
       "      <td>149907.3900</td>\n",
       "      <td>Year</td>\n",
       "      <td>Y</td>\n",
       "      <td>Certified</td>\n",
       "    </tr>\n",
       "  </tbody>\n",
       "</table>\n",
       "</div>"
      ],
      "text/plain": [
       "  case_id continent education_of_employee has_job_experience  \\\n",
       "0  EZYV01      Asia           High School                  N   \n",
       "1  EZYV02      Asia              Master's                  Y   \n",
       "2  EZYV03      Asia            Bachelor's                  N   \n",
       "3  EZYV04      Asia            Bachelor's                  N   \n",
       "4  EZYV05    Africa              Master's                  Y   \n",
       "\n",
       "  requires_job_training  no_of_employees  yr_of_estab region_of_employment  \\\n",
       "0                     N            14513         2007                 West   \n",
       "1                     N             2412         2002            Northeast   \n",
       "2                     Y            44444         2008                 West   \n",
       "3                     N               98         1897                 West   \n",
       "4                     N             1082         2005                South   \n",
       "\n",
       "   prevailing_wage unit_of_wage full_time_position case_status  \n",
       "0         592.2029         Hour                  Y      Denied  \n",
       "1       83425.6500         Year                  Y   Certified  \n",
       "2      122996.8600         Year                  Y      Denied  \n",
       "3       83434.0300         Year                  Y      Denied  \n",
       "4      149907.3900         Year                  Y   Certified  "
      ]
     },
     "execution_count": 2,
     "metadata": {},
     "output_type": "execute_result"
    }
   ],
   "source": [
    "file_path = \"C:\\\\Users\\\\DBRok\\\\Downloads\\\\Visadataset.csv\"\n",
    "\n",
    "visa_df = pd.read_csv(file_path)\n",
    "\n",
    "visa_df.head()"
   ]
  },
  {
   "cell_type": "code",
   "execution_count": 6,
   "metadata": {},
   "outputs": [],
   "source": [
    "min_wage = visa_df['prevailing_wage'].min()\n",
    "max_wage = visa_df['prevailing_wage'].max()\n",
    "dr = max_wage-min_wage\n",
    "nr = visa_df['prevailing_wage']-min_wage\n",
    "visa_df['prevailing_wage_norm'] = nr/dr"
   ]
  },
  {
   "cell_type": "code",
   "execution_count": 7,
   "metadata": {},
   "outputs": [
    {
     "data": {
      "text/html": [
       "<div>\n",
       "<style scoped>\n",
       "    .dataframe tbody tr th:only-of-type {\n",
       "        vertical-align: middle;\n",
       "    }\n",
       "\n",
       "    .dataframe tbody tr th {\n",
       "        vertical-align: top;\n",
       "    }\n",
       "\n",
       "    .dataframe thead th {\n",
       "        text-align: right;\n",
       "    }\n",
       "</style>\n",
       "<table border=\"1\" class=\"dataframe\">\n",
       "  <thead>\n",
       "    <tr style=\"text-align: right;\">\n",
       "      <th></th>\n",
       "      <th>prevailing_wage</th>\n",
       "      <th>prevailing_wage_norm</th>\n",
       "    </tr>\n",
       "  </thead>\n",
       "  <tbody>\n",
       "    <tr>\n",
       "      <th>0</th>\n",
       "      <td>592.2029</td>\n",
       "      <td>0.001849</td>\n",
       "    </tr>\n",
       "    <tr>\n",
       "      <th>1</th>\n",
       "      <td>83425.6500</td>\n",
       "      <td>0.261345</td>\n",
       "    </tr>\n",
       "    <tr>\n",
       "      <th>2</th>\n",
       "      <td>122996.8600</td>\n",
       "      <td>0.385312</td>\n",
       "    </tr>\n",
       "    <tr>\n",
       "      <th>3</th>\n",
       "      <td>83434.0300</td>\n",
       "      <td>0.261371</td>\n",
       "    </tr>\n",
       "    <tr>\n",
       "      <th>4</th>\n",
       "      <td>149907.3900</td>\n",
       "      <td>0.469616</td>\n",
       "    </tr>\n",
       "    <tr>\n",
       "      <th>...</th>\n",
       "      <td>...</td>\n",
       "      <td>...</td>\n",
       "    </tr>\n",
       "    <tr>\n",
       "      <th>25475</th>\n",
       "      <td>77092.5700</td>\n",
       "      <td>0.241505</td>\n",
       "    </tr>\n",
       "    <tr>\n",
       "      <th>25476</th>\n",
       "      <td>279174.7900</td>\n",
       "      <td>0.874579</td>\n",
       "    </tr>\n",
       "    <tr>\n",
       "      <th>25477</th>\n",
       "      <td>146298.8500</td>\n",
       "      <td>0.458311</td>\n",
       "    </tr>\n",
       "    <tr>\n",
       "      <th>25478</th>\n",
       "      <td>86154.7700</td>\n",
       "      <td>0.269895</td>\n",
       "    </tr>\n",
       "    <tr>\n",
       "      <th>25479</th>\n",
       "      <td>70876.9100</td>\n",
       "      <td>0.222033</td>\n",
       "    </tr>\n",
       "  </tbody>\n",
       "</table>\n",
       "<p>25480 rows × 2 columns</p>\n",
       "</div>"
      ],
      "text/plain": [
       "       prevailing_wage  prevailing_wage_norm\n",
       "0             592.2029              0.001849\n",
       "1           83425.6500              0.261345\n",
       "2          122996.8600              0.385312\n",
       "3           83434.0300              0.261371\n",
       "4          149907.3900              0.469616\n",
       "...                ...                   ...\n",
       "25475       77092.5700              0.241505\n",
       "25476      279174.7900              0.874579\n",
       "25477      146298.8500              0.458311\n",
       "25478       86154.7700              0.269895\n",
       "25479       70876.9100              0.222033\n",
       "\n",
       "[25480 rows x 2 columns]"
      ]
     },
     "execution_count": 7,
     "metadata": {},
     "output_type": "execute_result"
    }
   ],
   "source": [
    "visa_df[['prevailing_wage','prevailing_wage_norm']]"
   ]
  },
  {
   "cell_type": "code",
   "execution_count": 10,
   "metadata": {},
   "outputs": [
    {
     "data": {
      "text/plain": [
       "(1.0, 0.0)"
      ]
     },
     "execution_count": 10,
     "metadata": {},
     "output_type": "execute_result"
    }
   ],
   "source": [
    "visa_df['prevailing_wage_norm'].max(),visa_df['prevailing_wage_norm'].min()"
   ]
  },
  {
   "cell_type": "code",
   "execution_count": 11,
   "metadata": {},
   "outputs": [
    {
     "data": {
      "text/plain": [
       "(319210.27, 2.1367)"
      ]
     },
     "execution_count": 11,
     "metadata": {},
     "output_type": "execute_result"
    }
   ],
   "source": [
    "visa_df['prevailing_wage'].max(),visa_df['prevailing_wage'].min()"
   ]
  },
  {
   "cell_type": "code",
   "execution_count": 12,
   "metadata": {},
   "outputs": [
    {
     "data": {
      "text/plain": [
       "(21077, 20575)"
      ]
     },
     "execution_count": 12,
     "metadata": {},
     "output_type": "execute_result"
    }
   ],
   "source": [
    "max_id = visa_df['prevailing_wage_norm'].idxmax()\n",
    "min_id = visa_df['prevailing_wage_norm'].idxmin()\n",
    "\n",
    "max_id,min_id"
   ]
  },
  {
   "cell_type": "code",
   "execution_count": 13,
   "metadata": {},
   "outputs": [
    {
     "data": {
      "text/html": [
       "<div>\n",
       "<style scoped>\n",
       "    .dataframe tbody tr th:only-of-type {\n",
       "        vertical-align: middle;\n",
       "    }\n",
       "\n",
       "    .dataframe tbody tr th {\n",
       "        vertical-align: top;\n",
       "    }\n",
       "\n",
       "    .dataframe thead th {\n",
       "        text-align: right;\n",
       "    }\n",
       "</style>\n",
       "<table border=\"1\" class=\"dataframe\">\n",
       "  <thead>\n",
       "    <tr style=\"text-align: right;\">\n",
       "      <th></th>\n",
       "      <th>prevailing_wage</th>\n",
       "      <th>prevailing_wage_norm</th>\n",
       "    </tr>\n",
       "  </thead>\n",
       "  <tbody>\n",
       "    <tr>\n",
       "      <th>21077</th>\n",
       "      <td>319210.2700</td>\n",
       "      <td>1.0</td>\n",
       "    </tr>\n",
       "    <tr>\n",
       "      <th>20575</th>\n",
       "      <td>2.1367</td>\n",
       "      <td>0.0</td>\n",
       "    </tr>\n",
       "  </tbody>\n",
       "</table>\n",
       "</div>"
      ],
      "text/plain": [
       "       prevailing_wage  prevailing_wage_norm\n",
       "21077      319210.2700                   1.0\n",
       "20575           2.1367                   0.0"
      ]
     },
     "execution_count": 13,
     "metadata": {},
     "output_type": "execute_result"
    }
   ],
   "source": [
    "visa_df[['prevailing_wage','prevailing_wage_norm']].iloc[[max_id,min_id]]"
   ]
  },
  {
   "cell_type": "markdown",
   "metadata": {},
   "source": [
    "**MinMaxScalar**\n",
    "\n",
    "- MinMaxScalar is a method from sklearn preprocessing\n",
    "\n",
    "- Read the packages\n",
    "\n",
    "- Save the package\n",
    "\n",
    "- Apply fit transform"
   ]
  },
  {
   "cell_type": "code",
   "execution_count": 16,
   "metadata": {},
   "outputs": [
    {
     "data": {
      "text/plain": [
       "array([[0.00184853],\n",
       "       [0.2613452 ],\n",
       "       [0.385312  ],\n",
       "       ...,\n",
       "       [0.45831136],\n",
       "       [0.26989486],\n",
       "       [0.22203311]])"
      ]
     },
     "execution_count": 16,
     "metadata": {},
     "output_type": "execute_result"
    }
   ],
   "source": [
    "########### Reading Data Again ###############\n",
    "file_path = \"C:\\\\Users\\\\DBRok\\\\Downloads\\\\Visadataset.csv\"\n",
    "visa_df = pd.read_csv(file_path)\n",
    "\n",
    "# step-1\n",
    "from sklearn.preprocessing import MinMaxScaler\n",
    "\n",
    "# step-2\n",
    "mms = MinMaxScaler()\n",
    "\n",
    "# step-3\n",
    "mms.fit_transform(visa_df[['prevailing_wage']])\n"
   ]
  },
  {
   "cell_type": "markdown",
   "metadata": {},
   "source": [
    "**Note**:\n",
    "    \n",
    "    Inside MinMaxScalar pass dataframe not series"
   ]
  },
  {
   "cell_type": "code",
   "execution_count": 17,
   "metadata": {},
   "outputs": [],
   "source": [
    "########### Reading Data Again ###############\n",
    "file_path = \"C:\\\\Users\\\\DBRok\\\\Downloads\\\\Visadataset.csv\"\n",
    "visa_df = pd.read_csv(file_path)\n",
    "\n",
    "# step-1\n",
    "from sklearn.preprocessing import MinMaxScaler\n",
    "\n",
    "# step-2\n",
    "mms = MinMaxScaler()\n",
    "\n",
    "# step-3\n",
    "visa_df['prevailing_wage_norm1']=mms.fit_transform(visa_df[['prevailing_wage']])"
   ]
  },
  {
   "cell_type": "code",
   "execution_count": 18,
   "metadata": {},
   "outputs": [
    {
     "data": {
      "text/html": [
       "<div>\n",
       "<style scoped>\n",
       "    .dataframe tbody tr th:only-of-type {\n",
       "        vertical-align: middle;\n",
       "    }\n",
       "\n",
       "    .dataframe tbody tr th {\n",
       "        vertical-align: top;\n",
       "    }\n",
       "\n",
       "    .dataframe thead th {\n",
       "        text-align: right;\n",
       "    }\n",
       "</style>\n",
       "<table border=\"1\" class=\"dataframe\">\n",
       "  <thead>\n",
       "    <tr style=\"text-align: right;\">\n",
       "      <th></th>\n",
       "      <th>prevailing_wage_norm1</th>\n",
       "      <th>prevailing_wage</th>\n",
       "    </tr>\n",
       "  </thead>\n",
       "  <tbody>\n",
       "    <tr>\n",
       "      <th>0</th>\n",
       "      <td>0.001849</td>\n",
       "      <td>592.2029</td>\n",
       "    </tr>\n",
       "    <tr>\n",
       "      <th>1</th>\n",
       "      <td>0.261345</td>\n",
       "      <td>83425.6500</td>\n",
       "    </tr>\n",
       "    <tr>\n",
       "      <th>2</th>\n",
       "      <td>0.385312</td>\n",
       "      <td>122996.8600</td>\n",
       "    </tr>\n",
       "    <tr>\n",
       "      <th>3</th>\n",
       "      <td>0.261371</td>\n",
       "      <td>83434.0300</td>\n",
       "    </tr>\n",
       "    <tr>\n",
       "      <th>4</th>\n",
       "      <td>0.469616</td>\n",
       "      <td>149907.3900</td>\n",
       "    </tr>\n",
       "    <tr>\n",
       "      <th>...</th>\n",
       "      <td>...</td>\n",
       "      <td>...</td>\n",
       "    </tr>\n",
       "    <tr>\n",
       "      <th>25475</th>\n",
       "      <td>0.241505</td>\n",
       "      <td>77092.5700</td>\n",
       "    </tr>\n",
       "    <tr>\n",
       "      <th>25476</th>\n",
       "      <td>0.874579</td>\n",
       "      <td>279174.7900</td>\n",
       "    </tr>\n",
       "    <tr>\n",
       "      <th>25477</th>\n",
       "      <td>0.458311</td>\n",
       "      <td>146298.8500</td>\n",
       "    </tr>\n",
       "    <tr>\n",
       "      <th>25478</th>\n",
       "      <td>0.269895</td>\n",
       "      <td>86154.7700</td>\n",
       "    </tr>\n",
       "    <tr>\n",
       "      <th>25479</th>\n",
       "      <td>0.222033</td>\n",
       "      <td>70876.9100</td>\n",
       "    </tr>\n",
       "  </tbody>\n",
       "</table>\n",
       "<p>25480 rows × 2 columns</p>\n",
       "</div>"
      ],
      "text/plain": [
       "       prevailing_wage_norm1  prevailing_wage\n",
       "0                   0.001849         592.2029\n",
       "1                   0.261345       83425.6500\n",
       "2                   0.385312      122996.8600\n",
       "3                   0.261371       83434.0300\n",
       "4                   0.469616      149907.3900\n",
       "...                      ...              ...\n",
       "25475               0.241505       77092.5700\n",
       "25476               0.874579      279174.7900\n",
       "25477               0.458311      146298.8500\n",
       "25478               0.269895       86154.7700\n",
       "25479               0.222033       70876.9100\n",
       "\n",
       "[25480 rows x 2 columns]"
      ]
     },
     "execution_count": 18,
     "metadata": {},
     "output_type": "execute_result"
    }
   ],
   "source": [
    "visa_df[['prevailing_wage_norm1','prevailing_wage']]"
   ]
  },
  {
   "cell_type": "code",
   "execution_count": 20,
   "metadata": {},
   "outputs": [],
   "source": [
    "# step-1 : calculate mean\n",
    "mean_wage = visa_df['prevailing_wage'].mean()\n",
    "std_wage = visa_df['prevailing_wage'].std()\n",
    "nr = visa_df['prevailing_wage']-mean_wage\n",
    "visa_df['prevailing_wage_zscore']=nr/std_wage\n"
   ]
  },
  {
   "cell_type": "code",
   "execution_count": 21,
   "metadata": {},
   "outputs": [
    {
     "data": {
      "text/html": [
       "<div>\n",
       "<style scoped>\n",
       "    .dataframe tbody tr th:only-of-type {\n",
       "        vertical-align: middle;\n",
       "    }\n",
       "\n",
       "    .dataframe tbody tr th {\n",
       "        vertical-align: top;\n",
       "    }\n",
       "\n",
       "    .dataframe thead th {\n",
       "        text-align: right;\n",
       "    }\n",
       "</style>\n",
       "<table border=\"1\" class=\"dataframe\">\n",
       "  <thead>\n",
       "    <tr style=\"text-align: right;\">\n",
       "      <th></th>\n",
       "      <th>prevailing_wage</th>\n",
       "      <th>prevailing_wage_zscore</th>\n",
       "    </tr>\n",
       "  </thead>\n",
       "  <tbody>\n",
       "    <tr>\n",
       "      <th>0</th>\n",
       "      <td>592.2029</td>\n",
       "      <td>-1.398510</td>\n",
       "    </tr>\n",
       "    <tr>\n",
       "      <th>1</th>\n",
       "      <td>83425.6500</td>\n",
       "      <td>0.169832</td>\n",
       "    </tr>\n",
       "    <tr>\n",
       "      <th>2</th>\n",
       "      <td>122996.8600</td>\n",
       "      <td>0.919060</td>\n",
       "    </tr>\n",
       "    <tr>\n",
       "      <th>3</th>\n",
       "      <td>83434.0300</td>\n",
       "      <td>0.169991</td>\n",
       "    </tr>\n",
       "    <tr>\n",
       "      <th>4</th>\n",
       "      <td>149907.3900</td>\n",
       "      <td>1.428576</td>\n",
       "    </tr>\n",
       "    <tr>\n",
       "      <th>...</th>\n",
       "      <td>...</td>\n",
       "      <td>...</td>\n",
       "    </tr>\n",
       "    <tr>\n",
       "      <th>25475</th>\n",
       "      <td>77092.5700</td>\n",
       "      <td>0.049923</td>\n",
       "    </tr>\n",
       "    <tr>\n",
       "      <th>25476</th>\n",
       "      <td>279174.7900</td>\n",
       "      <td>3.876083</td>\n",
       "    </tr>\n",
       "    <tr>\n",
       "      <th>25477</th>\n",
       "      <td>146298.8500</td>\n",
       "      <td>1.360253</td>\n",
       "    </tr>\n",
       "    <tr>\n",
       "      <th>25478</th>\n",
       "      <td>86154.7700</td>\n",
       "      <td>0.221504</td>\n",
       "    </tr>\n",
       "    <tr>\n",
       "      <th>25479</th>\n",
       "      <td>70876.9100</td>\n",
       "      <td>-0.067762</td>\n",
       "    </tr>\n",
       "  </tbody>\n",
       "</table>\n",
       "<p>25480 rows × 2 columns</p>\n",
       "</div>"
      ],
      "text/plain": [
       "       prevailing_wage  prevailing_wage_zscore\n",
       "0             592.2029               -1.398510\n",
       "1           83425.6500                0.169832\n",
       "2          122996.8600                0.919060\n",
       "3           83434.0300                0.169991\n",
       "4          149907.3900                1.428576\n",
       "...                ...                     ...\n",
       "25475       77092.5700                0.049923\n",
       "25476      279174.7900                3.876083\n",
       "25477      146298.8500                1.360253\n",
       "25478       86154.7700                0.221504\n",
       "25479       70876.9100               -0.067762\n",
       "\n",
       "[25480 rows x 2 columns]"
      ]
     },
     "execution_count": 21,
     "metadata": {},
     "output_type": "execute_result"
    }
   ],
   "source": [
    "visa_df[['prevailing_wage','prevailing_wage_zscore']]"
   ]
  },
  {
   "cell_type": "code",
   "execution_count": 23,
   "metadata": {},
   "outputs": [
    {
     "data": {
      "image/png": "[encoded data removed]",
      "text/plain": [
       "<Figure size 640x480 with 2 Axes>"
      ]
     },
     "metadata": {},
     "output_type": "display_data"
    }
   ],
   "source": [
    "plt.subplot(1,2,1)\n",
    "plt.boxplot(visa_df['prevailing_wage'])\n",
    "plt.subplot(1,2,2)\n",
    "plt.boxplot(visa_df['prevailing_wage_zscore'])\n",
    "plt.show()"
   ]
  },
  {
   "cell_type": "markdown",
   "metadata": {},
   "source": [
    "**StandardScaler**"
   ]
  },
  {
   "cell_type": "code",
   "execution_count": 26,
   "metadata": {},
   "outputs": [],
   "source": [
    "# task-01\n",
    "########### Reading Data Again ###############\n",
    "file_path = \"C:\\\\Users\\\\DBRok\\\\Downloads\\\\Visadataset.csv\"\n",
    "visa_df = pd.read_csv(file_path)\n",
    "\n",
    "\n",
    "#step-1\n",
    "from sklearn.preprocessing import StandardScaler\n",
    "\n",
    "#step-2\n",
    "ss = StandardScaler()\n",
    "\n",
    "#step-3\n",
    "visa_df['prevailing_wage_stdscal'] = ss.fit_transform(visa_df[['prevailing_wage']])\n"
   ]
  },
  {
   "cell_type": "code",
   "execution_count": 27,
   "metadata": {},
   "outputs": [
    {
     "data": {
      "text/html": [
       "<div>\n",
       "<style scoped>\n",
       "    .dataframe tbody tr th:only-of-type {\n",
       "        vertical-align: middle;\n",
       "    }\n",
       "\n",
       "    .dataframe tbody tr th {\n",
       "        vertical-align: top;\n",
       "    }\n",
       "\n",
       "    .dataframe thead th {\n",
       "        text-align: right;\n",
       "    }\n",
       "</style>\n",
       "<table border=\"1\" class=\"dataframe\">\n",
       "  <thead>\n",
       "    <tr style=\"text-align: right;\">\n",
       "      <th></th>\n",
       "      <th>prevailing_wage_stdscal</th>\n",
       "      <th>prevailing_wage</th>\n",
       "    </tr>\n",
       "  </thead>\n",
       "  <tbody>\n",
       "    <tr>\n",
       "      <th>0</th>\n",
       "      <td>-1.398537</td>\n",
       "      <td>592.2029</td>\n",
       "    </tr>\n",
       "    <tr>\n",
       "      <th>1</th>\n",
       "      <td>0.169835</td>\n",
       "      <td>83425.6500</td>\n",
       "    </tr>\n",
       "    <tr>\n",
       "      <th>2</th>\n",
       "      <td>0.919079</td>\n",
       "      <td>122996.8600</td>\n",
       "    </tr>\n",
       "    <tr>\n",
       "      <th>3</th>\n",
       "      <td>0.169994</td>\n",
       "      <td>83434.0300</td>\n",
       "    </tr>\n",
       "    <tr>\n",
       "      <th>4</th>\n",
       "      <td>1.428604</td>\n",
       "      <td>149907.3900</td>\n",
       "    </tr>\n",
       "    <tr>\n",
       "      <th>...</th>\n",
       "      <td>...</td>\n",
       "      <td>...</td>\n",
       "    </tr>\n",
       "    <tr>\n",
       "      <th>25475</th>\n",
       "      <td>0.049924</td>\n",
       "      <td>77092.5700</td>\n",
       "    </tr>\n",
       "    <tr>\n",
       "      <th>25476</th>\n",
       "      <td>3.876159</td>\n",
       "      <td>279174.7900</td>\n",
       "    </tr>\n",
       "    <tr>\n",
       "      <th>25477</th>\n",
       "      <td>1.360280</td>\n",
       "      <td>146298.8500</td>\n",
       "    </tr>\n",
       "    <tr>\n",
       "      <th>25478</th>\n",
       "      <td>0.221509</td>\n",
       "      <td>86154.7700</td>\n",
       "    </tr>\n",
       "    <tr>\n",
       "      <th>25479</th>\n",
       "      <td>-0.067763</td>\n",
       "      <td>70876.9100</td>\n",
       "    </tr>\n",
       "  </tbody>\n",
       "</table>\n",
       "<p>25480 rows × 2 columns</p>\n",
       "</div>"
      ],
      "text/plain": [
       "       prevailing_wage_stdscal  prevailing_wage\n",
       "0                    -1.398537         592.2029\n",
       "1                     0.169835       83425.6500\n",
       "2                     0.919079      122996.8600\n",
       "3                     0.169994       83434.0300\n",
       "4                     1.428604      149907.3900\n",
       "...                        ...              ...\n",
       "25475                 0.049924       77092.5700\n",
       "25476                 3.876159      279174.7900\n",
       "25477                 1.360280      146298.8500\n",
       "25478                 0.221509       86154.7700\n",
       "25479                -0.067763       70876.9100\n",
       "\n",
       "[25480 rows x 2 columns]"
      ]
     },
     "execution_count": 27,
     "metadata": {},
     "output_type": "execute_result"
    }
   ],
   "source": [
    "visa_df[['prevailing_wage_stdscal','prevailing_wage']]\n"
   ]
  },
  {
   "cell_type": "code",
   "execution_count": null,
   "metadata": {},
   "outputs": [],
   "source": []
  }
 ],
 "metadata": {
  "kernelspec": {
   "display_name": "Python 3",
   "language": "python",
   "name": "python3"
  },
  "language_info": {
   "codemirror_mode": {
    "name": "ipython",
    "version": 3
   },
   "file_extension": ".py",
   "mimetype": "text/x-python",
   "name": "python",
   "nbconvert_exporter": "python",
   "pygments_lexer": "ipython3",
   "version": "3.12.1"
  }
 },
 "nbformat": 4,
 "nbformat_minor": 2
}
